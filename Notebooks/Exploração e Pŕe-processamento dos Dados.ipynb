{
 "cells": [
  {
   "cell_type": "code",
   "execution_count": null,
   "metadata": {},
   "outputs": [],
   "source": [
    "# Importar bibliotecas necessárias\n",
    "import numpy as np\n",
    "import matplotlib.pyplot as plt\n",
    "import seaborn as sns\n",
    "from sklearn.preprocessing import MinMaxScaler\n",
    "\n",
    "# Configurações adicionais\n",
    "%matplotlib inline\n",
    "sns.set_theme(style=\"whitegrid\")\n",
    "\n",
    "# Carregar os dados de classe\n",
    "classes = np.load('../dados/Classes.npy', allow_pickle=True)\n",
    "\n",
    "# Inicializar uma lista para armazenar os modelos treinados\n",
    "modelos = []\n",
    "\n",
    "# Loop sobre os arquivos de dados\n",
    "dados = []\n",
    "for i in range(1, 6):\n",
    "    # Carregar os dados\n",
    "    dados_i = np.load(f'../dados/Dados_{i}.npy', allow_pickle=True)\n",
    "    dados.append(dados_i)\n",
    "\n",
    "# Função para pré-processamento (se necessário)\n",
    "def pre_processamento(dados):\n",
    "    # Por exemplo, você pode normalizar os dados\n",
    "    scaler = MinMaxScaler()\n",
    "    return [scaler.fit_transform(dados_i) for dados_i in dados]\n",
    "\n",
    "# Função para visualizar histograma completo e boxplot\n",
    "def visualizar_histograma_boxplot(dados):\n",
    "    for i, dados_i in enumerate(dados, start=1):\n",
    "        plt.figure(figsize=(12, 5))\n",
    "        plt.subplot(1, 2, 1)\n",
    "        sns.histplot(dados_i.flatten(), kde=True)\n",
    "        plt.title(f'Histograma - Arquivo {i}')\n",
    "        plt.xlabel('Valor')\n",
    "        plt.ylabel('Contagem')\n",
    "\n",
    "        plt.subplot(1, 2, 2)\n",
    "        sns.boxplot(data=dados_i)\n",
    "        plt.title(f'Boxplot - Arquivo {i}')\n",
    "        plt.xlabel('Variável')\n",
    "        plt.ylabel('Valor')\n",
    "\n",
    "        plt.tight_layout()  # Ajustar layout automaticamente para evitar sobreposição\n",
    "        plt.show()\n",
    "\n",
    "# Pré-processamento (se necessário)\n",
    "dados_pre_processados = pre_processamento(dados)\n",
    "\n",
    "# Visualizar histograma completo e boxplot\n",
    "visualizar_histograma_boxplot(dados)\n",
    "visualizar_histograma_boxplot(dados_pre_processados)\n",
    "\n",
    "# Documentação e instruções concluídas para a etapa de Exploração e Pré\n"
   ]
  }
 ],
 "metadata": {
  "kernelspec": {
   "display_name": "Python 3",
   "language": "python",
   "name": "python3"
  },
  "language_info": {
   "codemirror_mode": {
    "name": "ipython",
    "version": 3
   },
   "file_extension": ".py",
   "mimetype": "text/x-python",
   "name": "python",
   "nbconvert_exporter": "python",
   "pygments_lexer": "ipython3",
   "version": "3.10.12"
  }
 },
 "nbformat": 4,
 "nbformat_minor": 2
}
